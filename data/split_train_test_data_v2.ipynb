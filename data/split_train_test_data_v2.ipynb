{
 "cells": [
  {
   "cell_type": "code",
   "execution_count": 3,
   "metadata": {},
   "outputs": [],
   "source": [
    "import os\n",
    "import pandas as pd\n",
    "import numpy as np\n",
    "import cv2 as cv\n",
    "\n",
    "DIR_DATASET = 'dataset'\n",
    "DIR_EDIBLE_MUSHROOM = os.path.join(DIR_DATASET, 'EdibleMushrooms', 'data')\n",
    "DIR_POISONOUS_MUSHROOM = os.path.join(DIR_DATASET, 'PoisonousMushrooms', 'data')"
   ]
  },
  {
   "cell_type": "markdown",
   "metadata": {},
   "source": [
    "# **Load data**"
   ]
  },
  {
   "cell_type": "code",
   "execution_count": 2,
   "metadata": {},
   "outputs": [
    {
     "name": "stdout",
     "output_type": "stream",
     "text": [
      "[INFO] - Loading data...\n",
      "\tAgaricus bisporus: 75 loaded\n",
      "\tPleurotus ostreatus: 190 loaded\n",
      "\tPleurotus eryngii: 51 loaded\n",
      "\tCantharellus cibarius: 241 loaded\n",
      "\tBoletus edulis: 191 loaded\n",
      "\tHydnum repandum: 266 loaded\n",
      "\tLaetiporus: 348 loaded\n",
      "\tCraterellus cornucopioides: 343 loaded\n",
      "\tClitocybe nuda: 273 loaded\n",
      "\tMorchella: 251 loaded\n",
      "\tFlammulina velutipes: 268 loaded\n",
      "\tHypsizygus marmoreus: 67 loaded\n",
      "\tLentinula edodes: 70 loaded\n",
      "\tGrifola frondosa: 246 loaded\n",
      "\tGanoderma lingzhi: 89 loaded\n",
      "\tHericium erinaceus: 201 loaded\n",
      "\tTricholoma matsutake: 157 loaded\n",
      "\tCalvatia gigantea: 150 loaded\n",
      "\tAmanita phalloides: 281 loaded\n",
      "\tAmanita virosa: 285 loaded\n",
      "\tGyromitra esculenta: 330 loaded\n",
      "\tGalerina Marginata: 357 loaded\n",
      "\tClitocybe dealbata: 338 loaded\n",
      "\tCortinarius rubellus: 351 loaded\n",
      "\tAmanita verna: 188 loaded\n",
      "\tPodostroma Cornu-damae: 53 loaded\n",
      "\tPleurocybella porrigens: 385 loaded\n",
      "\tAmanita muscaria: 341 loaded\n",
      "[INFO] - Total image: 6386\n"
     ]
    }
   ],
   "source": [
    "list_folder =[[\"Agaricus bisporus\",\n",
    "                \"Pleurotus ostreatus\",\n",
    "                \"Pleurotus eryngii\",\n",
    "                \"Cantharellus cibarius\",\n",
    "                \"Boletus edulis\",\n",
    "                \"Hydnum repandum\",\n",
    "                \"Laetiporus\",\n",
    "                \"Craterellus cornucopioides\",\n",
    "                \"Clitocybe nuda\",\n",
    "                \"Morchella\",\n",
    "                \"Flammulina velutipes\",\n",
    "                \"Hypsizygus marmoreus\",\n",
    "                \"Lentinula edodes\",\n",
    "                \"Grifola frondosa\",\n",
    "                \"Ganoderma lingzhi\",\n",
    "                \"Hericium erinaceus\",\n",
    "                \"Tricholoma matsutake\",\n",
    "                \"Calvatia gigantea\"],\n",
    "                [\"Amanita phalloides\",\n",
    "                \"Amanita virosa\",\n",
    "                \"Gyromitra esculenta\",\n",
    "                \"Galerina Marginata\",\n",
    "                \"Clitocybe dealbata\",\n",
    "                \"Cortinarius rubellus\",\n",
    "                \"Amanita verna\",\n",
    "                \"Podostroma Cornu-damae\",\n",
    "                \"Pleurocybella porrigens\",\n",
    "                \"Amanita muscaria\"]]\n",
    "\n",
    "X_data = [] \n",
    "y_data = []\n",
    "\n",
    "# Load tất cả hình ảnh trong thư mục\n",
    "total = 0\n",
    "print(\"[INFO] - Loading data...\")\n",
    "for idx, scientific_names in enumerate(list_folder):\n",
    "    for item in scientific_names:\n",
    "        path_folder =  os.path.join(DIR_EDIBLE_MUSHROOM if idx == 0 else DIR_POISONOUS_MUSHROOM, item)\n",
    "        files = [f for f in os.listdir(path_folder) if os.path.isfile(os.path.join(path_folder, f))]\n",
    "        i = 0\n",
    "        for file in files:\n",
    "            img = cv.imread(os.path.join(path_folder, file))\n",
    "            if img is None:\n",
    "                continue\n",
    "            # img = cv.resize(img,(227, 227))\n",
    "            X_data.append(img)\n",
    "            y_data.append('EDIBLE' if idx == 0 else 'POISONOUS_' + item)\n",
    "            i += 1\n",
    "            total += 1\n",
    "        print(f\"\\t{item}: {i} loaded\")\n",
    "\n",
    "print(\"[INFO] - Total image:\", total)"
   ]
  },
  {
   "cell_type": "code",
   "execution_count": 28,
   "metadata": {},
   "outputs": [],
   "source": [
    "# Lưu hình ảnh đã load vào các thư mục tương ứng mỗi nhãn\n",
    "i = 0\n",
    "df = {'Name':[], 'Label':[]}\n",
    "label_current = y_data[0].replace(' ', '_').upper()\n",
    "if not os.path.exists(f'data/{label_current}'):\n",
    "    os.mkdir(f'data/{label_current}')\n",
    "for img, label in zip(X_data, y_data):\n",
    "    label = label.replace(' ', '_').upper()\n",
    "    if label != label_current:\n",
    "        i = 0\n",
    "        if not os.path.exists(f'data/{label}'):\n",
    "            os.mkdir(f'data/{label}')\n",
    "    cv.imwrite(f\"data/{label}/{i}.jpg\", img)\n",
    "    df['Name'].append(f\"{i}.jpg\")\n",
    "    df[\"Label\"].append(label)\n",
    "    i += 1\n",
    "    label_current = label"
   ]
  },
  {
   "cell_type": "code",
   "execution_count": 36,
   "metadata": {},
   "outputs": [],
   "source": [
    "df['Label'].replace('POISONOUS_PODOSTROMA_CORNU-DAMAE', 'POISONOUS_PODOSTROMA_CORNUDAMAE', inplace=True)"
   ]
  },
  {
   "cell_type": "code",
   "execution_count": 32,
   "metadata": {},
   "outputs": [],
   "source": [
    "i = 0\n",
    "df = {'Name':[], 'Label':[]}\n",
    "label_current = y_data[0].replace(' ', '_').upper()\n",
    "for img, label in zip(X_data, y_data):\n",
    "    label = label.replace(' ', '_').upper()\n",
    "    if label != label_current:\n",
    "        i = 0\n",
    "    df['Name'].append(f\"{i}.jpg\")\n",
    "    df[\"Label\"].append(label)\n",
    "    i += 1\n",
    "    label_current = label"
   ]
  },
  {
   "cell_type": "code",
   "execution_count": null,
   "metadata": {},
   "outputs": [],
   "source": [
    "df = pd.DataFrame(df)\n",
    "df.to_csv('data/mushroom_dataset.csv', index=False)"
   ]
  },
  {
   "cell_type": "code",
   "execution_count": 43,
   "metadata": {},
   "outputs": [
    {
     "data": {
      "text/html": [
       "<div>\n",
       "<style scoped>\n",
       "    .dataframe tbody tr th:only-of-type {\n",
       "        vertical-align: middle;\n",
       "    }\n",
       "\n",
       "    .dataframe tbody tr th {\n",
       "        vertical-align: top;\n",
       "    }\n",
       "\n",
       "    .dataframe thead th {\n",
       "        text-align: right;\n",
       "    }\n",
       "</style>\n",
       "<table border=\"1\" class=\"dataframe\">\n",
       "  <thead>\n",
       "    <tr style=\"text-align: right;\">\n",
       "      <th></th>\n",
       "      <th>Name</th>\n",
       "      <th>Label</th>\n",
       "    </tr>\n",
       "  </thead>\n",
       "  <tbody>\n",
       "    <tr>\n",
       "      <th>0</th>\n",
       "      <td>0.jpg</td>\n",
       "      <td>EDIBLE</td>\n",
       "    </tr>\n",
       "    <tr>\n",
       "      <th>1</th>\n",
       "      <td>1.jpg</td>\n",
       "      <td>EDIBLE</td>\n",
       "    </tr>\n",
       "    <tr>\n",
       "      <th>2</th>\n",
       "      <td>2.jpg</td>\n",
       "      <td>EDIBLE</td>\n",
       "    </tr>\n",
       "    <tr>\n",
       "      <th>3</th>\n",
       "      <td>3.jpg</td>\n",
       "      <td>EDIBLE</td>\n",
       "    </tr>\n",
       "    <tr>\n",
       "      <th>4</th>\n",
       "      <td>4.jpg</td>\n",
       "      <td>EDIBLE</td>\n",
       "    </tr>\n",
       "  </tbody>\n",
       "</table>\n",
       "</div>"
      ],
      "text/plain": [
       "    Name   Label\n",
       "0  0.jpg  EDIBLE\n",
       "1  1.jpg  EDIBLE\n",
       "2  2.jpg  EDIBLE\n",
       "3  3.jpg  EDIBLE\n",
       "4  4.jpg  EDIBLE"
      ]
     },
     "execution_count": 43,
     "metadata": {},
     "output_type": "execute_result"
    }
   ],
   "source": [
    "df.head()"
   ]
  },
  {
   "cell_type": "code",
   "execution_count": 41,
   "metadata": {},
   "outputs": [
    {
     "data": {
      "text/plain": [
       "EDIBLE                               3477\n",
       "POISONOUS_PLEUROCYBELLA_PORRIGENS     385\n",
       "POISONOUS_GALERINA_MARGINATA          357\n",
       "POISONOUS_CORTINARIUS_RUBELLUS        351\n",
       "POISONOUS_AMANITA_MUSCARIA            341\n",
       "POISONOUS_CLITOCYBE_DEALBATA          338\n",
       "POISONOUS_GYROMITRA_ESCULENTA         330\n",
       "POISONOUS_AMANITA_VIROSA              285\n",
       "POISONOUS_AMANITA_PHALLOIDES          281\n",
       "POISONOUS_AMANITA_VERNA               188\n",
       "POISONOUS_PODOSTROMA_CORNUDAMAE        53\n",
       "Name: Label, dtype: int64"
      ]
     },
     "execution_count": 41,
     "metadata": {},
     "output_type": "execute_result"
    }
   ],
   "source": [
    "df['Label'].value_counts()"
   ]
  },
  {
   "cell_type": "markdown",
   "metadata": {},
   "source": [
    "# **Split data**"
   ]
  },
  {
   "cell_type": "code",
   "execution_count": 17,
   "metadata": {},
   "outputs": [
    {
     "data": {
      "text/html": [
       "<div>\n",
       "<style scoped>\n",
       "    .dataframe tbody tr th:only-of-type {\n",
       "        vertical-align: middle;\n",
       "    }\n",
       "\n",
       "    .dataframe tbody tr th {\n",
       "        vertical-align: top;\n",
       "    }\n",
       "\n",
       "    .dataframe thead th {\n",
       "        text-align: right;\n",
       "    }\n",
       "</style>\n",
       "<table border=\"1\" class=\"dataframe\">\n",
       "  <thead>\n",
       "    <tr style=\"text-align: right;\">\n",
       "      <th></th>\n",
       "      <th>Name</th>\n",
       "      <th>Label</th>\n",
       "    </tr>\n",
       "  </thead>\n",
       "  <tbody>\n",
       "    <tr>\n",
       "      <th>5928</th>\n",
       "      <td>268.jpg</td>\n",
       "      <td>POISONOUS_PLEUROCYBELLA_PORRIGENS</td>\n",
       "    </tr>\n",
       "    <tr>\n",
       "      <th>5984</th>\n",
       "      <td>324.jpg</td>\n",
       "      <td>POISONOUS_PLEUROCYBELLA_PORRIGENS</td>\n",
       "    </tr>\n",
       "    <tr>\n",
       "      <th>313</th>\n",
       "      <td>313.jpg</td>\n",
       "      <td>EDIBLE</td>\n",
       "    </tr>\n",
       "    <tr>\n",
       "      <th>5532</th>\n",
       "      <td>113.jpg</td>\n",
       "      <td>POISONOUS_AMANITA_VERNA</td>\n",
       "    </tr>\n",
       "    <tr>\n",
       "      <th>700</th>\n",
       "      <td>700.jpg</td>\n",
       "      <td>EDIBLE</td>\n",
       "    </tr>\n",
       "  </tbody>\n",
       "</table>\n",
       "</div>"
      ],
      "text/plain": [
       "         Name                              Label\n",
       "5928  268.jpg  POISONOUS_PLEUROCYBELLA_PORRIGENS\n",
       "5984  324.jpg  POISONOUS_PLEUROCYBELLA_PORRIGENS\n",
       "313   313.jpg                             EDIBLE\n",
       "5532  113.jpg            POISONOUS_AMANITA_VERNA\n",
       "700   700.jpg                             EDIBLE"
      ]
     },
     "execution_count": 17,
     "metadata": {},
     "output_type": "execute_result"
    }
   ],
   "source": [
    "df = pd.read_csv('data/mushroom_dataset.csv')\n",
    "df.sample(5)"
   ]
  },
  {
   "cell_type": "markdown",
   "metadata": {},
   "source": [
    "## **Chia dữ liệu thành 2 loại nấm ăn được và nấm độc**"
   ]
  },
  {
   "cell_type": "code",
   "execution_count": 22,
   "metadata": {},
   "outputs": [],
   "source": [
    "# Tạo thư mục gốc để chia tập dữ liệu\n",
    "if not os.path.exists('data_splited_general'):\n",
    "    os.mkdir('data_splited_general')\n",
    "# Tạo các thư mục train, dev, test nếu không tồn tại\n",
    "for folder_set in ['train', 'dev', 'test']:\n",
    "    if not os.path.exists(f'data_splited_general/{folder_set}'):\n",
    "        os.mkdir(f'data_splited_general/{folder_set}')\n",
    "    # Tạo các thư mục con trong các tập dữ liệu\n",
    "    for sub_folder in ['EDIBLE', 'POISONOUS']:\n",
    "        if not os.path.exists(f'data_splited_general/{folder_set}/{sub_folder}'):\n",
    "            os.mkdir(f'data_splited_general/{folder_set}/{sub_folder}')"
   ]
  },
  {
   "cell_type": "code",
   "execution_count": 25,
   "metadata": {},
   "outputs": [
    {
     "name": "stdout",
     "output_type": "stream",
     "text": [
      "Spliting EDIBLE...\n",
      "Spliting POISONOUS_AMANITA_PHALLOIDES...\n",
      "Spliting POISONOUS_AMANITA_VIROSA...\n",
      "Spliting POISONOUS_GYROMITRA_ESCULENTA...\n",
      "Spliting POISONOUS_GALERINA_MARGINATA...\n",
      "Spliting POISONOUS_CLITOCYBE_DEALBATA...\n",
      "Spliting POISONOUS_CORTINARIUS_RUBELLUS...\n",
      "Spliting POISONOUS_AMANITA_VERNA...\n",
      "Spliting POISONOUS_PODOSTROMA_CORNUDAMAE...\n",
      "Spliting POISONOUS_PLEUROCYBELLA_PORRIGENS...\n",
      "Spliting POISONOUS_AMANITA_MUSCARIA...\n"
     ]
    }
   ],
   "source": [
    "from sklearn.model_selection import train_test_split\n",
    "\n",
    "# Chia tập dữ liệu thành train, dev, test và lưu vào thư mục\n",
    "for item in df['Label'].unique():\n",
    "    print(f'Spliting {item}...')\n",
    "    df_item = df[df['Label'] == item]\n",
    "\n",
    "    df_train_item, df_test_item = train_test_split(\n",
    "        df_item, test_size=0.2, random_state=42)\n",
    "    df_train_item, df_dev_item = train_test_split(\n",
    "        df_train_item, test_size=0.1, random_state=42)\n",
    "\n",
    "    for set_name, df_set in zip(['train', 'dev', 'test'], [df_train_item, df_dev_item, df_test_item]):\n",
    "        for index, row in df_set.iterrows():\n",
    "            path_file = os.path.join('data', row['Label'], row['Name'])\n",
    "            img = cv.imread(path_file)\n",
    "            if img is None:\n",
    "                print('ERROR - Image is none!')\n",
    "                continue\n",
    "            cv.imwrite(os.path.join('data_splited_general', set_name,\n",
    "                       'EDIBLE' if row['Label'] == 'EDIBLE' else 'POISONOUS', row['Name'] + '_' + row['Label']), img)\n"
   ]
  },
  {
   "cell_type": "code",
   "execution_count": null,
   "metadata": {},
   "outputs": [],
   "source": [
    "['EDIBLE', 'POISONOUS_AMANITA_PHALLOIDES',\n",
    " 'POISONOUS_AMANITA_VIROSA', 'POISONOUS_GYROMITRA_ESCULENTA',\n",
    " 'POISONOUS_GALERINA_MARGINATA', 'POISONOUS_CLITOCYBE_DEALBATA',\n",
    " 'POISONOUS_CORTINARIUS_RUBELLUS', 'POISONOUS_AMANITA_VERNA',\n",
    " 'POISONOUS_PODOSTROMA_CORNUDAMAE', 'POISONOUS_PLEUROCYBELLA_PORRIGENS',\n",
    " 'POISONOUS_AMANITA_MUSCARIA']\n"
   ]
  },
  {
   "cell_type": "code",
   "execution_count": 26,
   "metadata": {},
   "outputs": [
    {
     "data": {
      "text/plain": [
       "array(['EDIBLE', 'POISONOUS_AMANITA_PHALLOIDES',\n",
       "       'POISONOUS_AMANITA_VIROSA', 'POISONOUS_GYROMITRA_ESCULENTA',\n",
       "       'POISONOUS_GALERINA_MARGINATA', 'POISONOUS_CLITOCYBE_DEALBATA',\n",
       "       'POISONOUS_CORTINARIUS_RUBELLUS', 'POISONOUS_AMANITA_VERNA',\n",
       "       'POISONOUS_PODOSTROMA_CORNUDAMAE',\n",
       "       'POISONOUS_PLEUROCYBELLA_PORRIGENS', 'POISONOUS_AMANITA_MUSCARIA'],\n",
       "      dtype=object)"
      ]
     },
     "execution_count": 26,
     "metadata": {},
     "output_type": "execute_result"
    }
   ],
   "source": [
    "df.Label.unique()"
   ]
  },
  {
   "cell_type": "markdown",
   "metadata": {},
   "source": [
    "## **Chia dữ liệu nấm ăn được và các loài nấm độc riêng biệt** "
   ]
  },
  {
   "cell_type": "code",
   "execution_count": 15,
   "metadata": {},
   "outputs": [],
   "source": [
    "# Tạo thư mục gốc để chia tập dữ liệu\n",
    "if not os.path.exists('data_splited_species'):\n",
    "    os.mkdir('data_splited_species')\n",
    "# Tạo các thư mục train, dev, test nếu không tồn tại\n",
    "for folder_set in ['train', 'dev', 'test']:\n",
    "    if not os.path.exists(f'data_splited_species/{folder_set}'):\n",
    "        os.mkdir(f'data_splited_species/{folder_set}')\n",
    "    # Tạo các thư mục con trong các tập dữ liệu\n",
    "    for sub_folder in df['Label'].unique():\n",
    "        if not os.path.exists(f'data_splited_species/{folder_set}/{sub_folder}'):\n",
    "            os.mkdir(f'data_splited_species/{folder_set}/{sub_folder}')\n"
   ]
  },
  {
   "cell_type": "code",
   "execution_count": 16,
   "metadata": {},
   "outputs": [
    {
     "name": "stdout",
     "output_type": "stream",
     "text": [
      "Spliting EDIBLE...\n",
      "Spliting POISONOUS_AMANITA_PHALLOIDES...\n",
      "Spliting POISONOUS_AMANITA_VIROSA...\n",
      "Spliting POISONOUS_GYROMITRA_ESCULENTA...\n",
      "Spliting POISONOUS_GALERINA_MARGINATA...\n",
      "Spliting POISONOUS_CLITOCYBE_DEALBATA...\n",
      "Spliting POISONOUS_CORTINARIUS_RUBELLUS...\n",
      "Spliting POISONOUS_AMANITA_VERNA...\n",
      "Spliting POISONOUS_PODOSTROMA_CORNUDAMAE...\n",
      "Spliting POISONOUS_PLEUROCYBELLA_PORRIGENS...\n",
      "Spliting POISONOUS_AMANITA_MUSCARIA...\n"
     ]
    }
   ],
   "source": [
    "from sklearn.model_selection import train_test_split\n",
    "\n",
    "# Chia tập dữ liệu thành train, dev, test và lưu vào thư mục\n",
    "for item in df['Label'].unique():\n",
    "    print(f'Spliting {item}...')\n",
    "    df_item = df[df['Label'] == item]\n",
    "\n",
    "    df_train_item, df_test_item = train_test_split(\n",
    "        df_item, test_size=0.2, random_state=42)\n",
    "    df_train_item, df_dev_item = train_test_split(\n",
    "        df_train_item, test_size=0.1, random_state=42)\n",
    "\n",
    "    for set_name, df_set in zip(['train', 'dev', 'test'], [df_train_item, df_dev_item, df_test_item]):\n",
    "        for index, row in df_set.iterrows():\n",
    "            path_file = os.path.join('data', row['Label'], row['Name'])\n",
    "            img = cv.imread(path_file)\n",
    "            if img is None:\n",
    "                print('ERROR - Image is none!')\n",
    "                continue\n",
    "            cv.imwrite(os.path.join('data_splited_species',\n",
    "                       set_name, row['Label'], row['Name']), img)\n"
   ]
  }
 ],
 "metadata": {
  "interpreter": {
   "hash": "5f3a43da3465484f8d08df9331c3c35fb16341a24cb5c5d7be011932600800f9"
  },
  "kernelspec": {
   "display_name": "Python 3.9.1 64-bit",
   "language": "python",
   "name": "python3"
  },
  "language_info": {
   "codemirror_mode": {
    "name": "ipython",
    "version": 3
   },
   "file_extension": ".py",
   "mimetype": "text/x-python",
   "name": "python",
   "nbconvert_exporter": "python",
   "pygments_lexer": "ipython3",
   "version": "3.9.1"
  },
  "orig_nbformat": 4
 },
 "nbformat": 4,
 "nbformat_minor": 2
}
